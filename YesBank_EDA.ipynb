{
  "nbformat": 4,
  "nbformat_minor": 0,
  "metadata": {
    "colab": {
      "private_outputs": true,
      "provenance": [],
      "collapsed_sections": [
        "vncDsAP0Gaoa",
        "FJNUwmbgGyua",
        "w6K7xa23Elo4",
        "yQaldy8SH6Dl",
        "PH-0ReGfmX4f",
        "mDgbUHAGgjLW",
        "O_i_v8NEhb9l",
        "HhfV-JJviCcP",
        "Y3lxredqlCYt",
        "3RnN4peoiCZX",
        "x71ZqKXriCWQ",
        "7hBIi_osiCS2",
        "JlHwYmJAmNHm",
        "35m5QtbWiB9F",
        "PoPl-ycgm1ru",
        "H0kj-8xxnORC",
        "nA9Y7ga8ng1Z",
        "PBTbrJXOngz2",
        "u3PMJOP6ngxN",
        "dauF4eBmngu3",
        "bKJF3rekwFvQ",
        "MSa1f5Uengrz",
        "GF8Ens_Soomf",
        "0wOQAZs5pc--",
        "K5QZ13OEpz2H",
        "lQ7QKXXCp7Bj",
        "448CDAPjqfQr",
        "KSlN3yHqYklG",
        "t6dVpIINYklI",
        "ijmpgYnKYklI",
        "-JiQyfWJYklI",
        "EM7whBJCYoAo",
        "fge-S5ZAYoAp",
        "85gYPyotYoAp",
        "RoGjAbkUYoAp",
        "4Of9eVA-YrdM",
        "iky9q4vBYrdO",
        "F6T5p64dYrdO",
        "y-Ehk30pYrdP",
        "bamQiAODYuh1",
        "QHF8YVU7Yuh3",
        "GwzvFGzlYuh3",
        "qYpmQ266Yuh3",
        "OH-pJp9IphqM",
        "bbFf2-_FphqN",
        "_ouA3fa0phqN",
        "Seke61FWphqN",
        "PIIx-8_IphqN",
        "t27r6nlMphqO",
        "r2jJGEOYphqO",
        "b0JNsNcRphqO",
        "BZR9WyysphqO",
        "jj7wYXLtphqO",
        "eZrbJ2SmphqO",
        "rFu4xreNphqO",
        "YJ55k-q6phqO",
        "gCFgpxoyphqP",
        "OVtJsKN_phqQ",
        "lssrdh5qphqQ",
        "U2RJ9gkRphqQ",
        "1M8mcRywphqQ",
        "tgIPom80phqQ",
        "JMzcOPDDphqR",
        "x-EpHcCOp1ci",
        "X_VqEhTip1ck",
        "8zGJKyg5p1ck",
        "PVzmfK_Ep1ck",
        "n3dbpmDWp1ck",
        "ylSl6qgtp1ck",
        "ZWILFDl5p1ck",
        "M7G43BXep1ck",
        "Ag9LCva-p1cl",
        "E6MkPsBcp1cl",
        "2cELzS2fp1cl",
        "3MPXvC8up1cl",
        "NC_X3p0fY2L0",
        "UV0SzAkaZNRQ",
        "YPEH6qLeZNRQ",
        "q29F0dvdveiT",
        "EXh0U9oCveiU",
        "22aHeOlLveiV",
        "JcMwzZxoAimU",
        "8G2x9gOozGDZ",
        "gCX9965dhzqZ",
        "gIfDvo9L0UH2"
      ]
    },
    "kernelspec": {
      "name": "python3",
      "display_name": "Python 3"
    },
    "language_info": {
      "name": "python"
    }
  },
  "cells": [
    {
      "cell_type": "markdown",
      "source": [
        "# **Project Name**    -  Yes Bank Stock Price Analysis\n",
        "\n"
      ],
      "metadata": {
        "id": "vncDsAP0Gaoa"
      }
    },
    {
      "cell_type": "markdown",
      "source": [
        "##### **Project Type**    - EDA\n",
        "##### **Contribution**    - Individual\n",
        "##### **Team Member 1**   - R Samarth Gowda"
      ],
      "metadata": {
        "id": "beRrZCGUAJYm"
      }
    },
    {
      "cell_type": "markdown",
      "source": [
        "# **Project Summary -**"
      ],
      "metadata": {
        "id": "FJNUwmbgGyua"
      }
    },
    {
      "cell_type": "markdown",
      "source": [
        "This project involves a deep analytical study of Yes Bank’s stock price dataset with the aim of deriving meaningful business insights and building intelligent models using machine learning techniques. The workflow includes structured Exploratory Data Analysis (EDA) using the UBM framework (Univariate, Bivariate, Multivariate analysis), identifying trends, volatility, gain/loss patterns, and deploying predictive algorithms to forecast stock movement. This end-to-end data science pipeline has been implemented in a well-documented and deployment-ready Jupyter Notebook.\n",
        "\n",
        "**Problem Statement**\n",
        "Yes Bank’s stock has seen significant fluctuations over the years due to internal and external market factors. The business objective is to understand the behavior of its stock prices, assess risk and volatility, and provide actionable investment strategies using both data visualization and machine learning.\n",
        "\n",
        "**Exploratory Data Analysis (EDA)**\n",
        "The dataset, after cleaning and transformation, was analyzed using the UBM method:\n",
        "\n",
        "*Univariate Analysis* revealed the central tendencies and dispersion of key numerical variables like Open, High, Low, Close, and Range (High - Low). Charts like histograms, KDE plots, and boxplots were used to visualize price and volatility distributions.\n",
        "\n",
        "*Bivariate Analysis* explored relationships between two variables. A stacked bar chart showed year-wise gain vs loss months, while line plots illustrated trends in closing price and moving averages. Monthly volatility patterns were studied using bar charts and boxplots.\n",
        "\n",
        "*Multivariate Analysis* was done using correlation heatmaps and pair plots. These visualizations helped uncover dependencies among price-related variables and guided feature selection for modeling. The correlation heatmap clearly highlighted strong positive relationships among Open, High, Low, and Close prices.\n",
        "\n",
        "A total of 20+ meaningful and insightful charts were plotted, each accompanied by a rationale, key insights, and the potential impact on business decision-making.\n",
        "\n",
        "**Data Wrangling**\n",
        "The dataset underwent several transformations to make it ML-ready:\n",
        "\n",
        "Converted string-based Date column to datetime format.\n",
        "\n",
        "Extracted new time-based features such as Month and Year.\n",
        "\n",
        "Created technical indicators like Range (High – Low) and Change (Close – Open).\n",
        "\n",
        "Removed duplicates and handled missing/null values.\n",
        "\n",
        "These steps enhanced data interpretability and laid the foundation for time-series and categorical analysis.\n",
        "\n",
        "**Key Insights & Business Recommendations**\n",
        "Long-term passive holding in Yes Bank stock results in capital erosion. Trend-following or active strategies yield better outcomes.\n",
        "\n",
        "High volatility is observed in months like March and October. These periods require hedging or reduced exposure.\n",
        "\n",
        "Moving average crossovers can be leveraged to identify entry/exit points.\n",
        "\n",
        "Use of gain/loss predictions and volatility clusters can help portfolio managers manage risk more effectively.\n",
        "\n",
        "**Conclusion**\n",
        "The project successfully translates raw stock price data into a structured business intelligence report. The combination of EDA, feature engineering, and ML modeling offers a holistic view of Yes Bank’s stock performance and equips decision-makers with tools to make more informed, data-backed investment choices. Further enhancements could include integrating macroeconomic indicators and live market data for real-time deployment."
      ],
      "metadata": {
        "id": "F6v_1wHtG2nS"
      }
    },
    {
      "cell_type": "markdown",
      "source": [
        "# **GitHub Link -**"
      ],
      "metadata": {
        "id": "w6K7xa23Elo4"
      }
    },
    {
      "cell_type": "markdown",
      "source": [
        "Provide your GitHub Link here."
      ],
      "metadata": {
        "id": "h1o69JH3Eqqn"
      }
    },
    {
      "cell_type": "markdown",
      "source": [
        "# **Problem Statement**\n"
      ],
      "metadata": {
        "id": "yQaldy8SH6Dl"
      }
    },
    {
      "cell_type": "markdown",
      "source": [
        "To analyze the historical stock price data of Yes Bank in order to uncover patterns in price movements, volatility, and seasonality, and to build predictive machine learning models that assist in forecasting future trends and classifying gain/loss days. The goal is to provide actionable insights that can help investors, analysts, and financial decision-makers make better, data-driven investment strategies."
      ],
      "metadata": {
        "id": "DpeJGUA3kjGy"
      }
    },
    {
      "cell_type": "markdown",
      "source": [
        "#### **Define Your Business Objective?**"
      ],
      "metadata": {
        "id": "PH-0ReGfmX4f"
      }
    },
    {
      "cell_type": "markdown",
      "source": [
        "The business objective of this project is to analyze and model the historical stock performance of Yes Bank using advanced data visualization and machine learning techniques. The goal is to uncover meaningful patterns in stock behavior, such as price volatility, trend direction, and seasonal movements, and to develop predictive models that can forecast future stock behavior (e.g., closing price, gain/loss days).\n",
        "\n",
        "These insights aim to assist investors, analysts, and financial institutions in making more informed decisions regarding trading strategies, investment timing, and risk management. By transforming raw stock market data into actionable intelligence, the project seeks to enable data-driven financial planning and improve return on investment (ROI)."
      ],
      "metadata": {
        "id": "PhDvGCAqmjP1"
      }
    },
    {
      "cell_type": "markdown",
      "source": [
        "# **General Guidelines** : -  "
      ],
      "metadata": {
        "id": "mDgbUHAGgjLW"
      }
    },
    {
      "cell_type": "markdown",
      "source": [
        "1.   Well-structured, formatted, and commented code is required.\n",
        "2.   Exception Handling, Production Grade Code & Deployment Ready Code will be a plus. Those students will be awarded some additional credits.\n",
        "     \n",
        "     The additional credits will have advantages over other students during Star Student selection.\n",
        "       \n",
        "             [ Note: - Deployment Ready Code is defined as, the whole .ipynb notebook should be executable in one go\n",
        "                       without a single error logged. ]\n",
        "\n",
        "3.   Each and every logic should have proper comments.\n",
        "4. You may add as many number of charts you want. Make Sure for each and every chart the following format should be answered.\n",
        "        \n",
        "\n",
        "```\n",
        "# Chart visualization code\n",
        "```\n",
        "            \n",
        "\n",
        "*   Why did you pick the specific chart?\n",
        "*   What is/are the insight(s) found from the chart?\n",
        "* Will the gained insights help creating a positive business impact?\n",
        "Are there any insights that lead to negative growth? Justify with specific reason.\n",
        "\n",
        "5. You have to create at least 20 logical & meaningful charts having important insights.\n",
        "\n",
        "\n",
        "[ Hints : - Do the Vizualization in  a structured way while following \"UBM\" Rule.\n",
        "\n",
        "U - Univariate Analysis,\n",
        "\n",
        "B - Bivariate Analysis (Numerical - Categorical, Numerical - Numerical, Categorical - Categorical)\n",
        "\n",
        "M - Multivariate Analysis\n",
        " ]\n",
        "\n",
        "\n",
        "\n"
      ],
      "metadata": {
        "id": "ZrxVaUj-hHfC"
      }
    },
    {
      "cell_type": "markdown",
      "source": [
        "# ***Let's Begin !***"
      ],
      "metadata": {
        "id": "O_i_v8NEhb9l"
      }
    },
    {
      "cell_type": "markdown",
      "source": [
        "## ***1. Know Your Data***"
      ],
      "metadata": {
        "id": "HhfV-JJviCcP"
      }
    },
    {
      "cell_type": "markdown",
      "source": [
        "### Import Libraries"
      ],
      "metadata": {
        "id": "Y3lxredqlCYt"
      }
    },
    {
      "cell_type": "code",
      "source": [
        "# Import Libraries\n",
        "# 📦 Basic Libraries\n",
        "import pandas as pd                    # Data handling\n",
        "import numpy as np                     # Numerical operations\n",
        "import warnings                        # To suppress warnings\n",
        "warnings.filterwarnings('ignore')\n",
        "\n",
        "# 📊 Visualization Libraries\n",
        "import matplotlib.pyplot as plt        # Plotting\n",
        "import seaborn as sns                  # Advanced statistical plots\n",
        "                   # Jupyter notebook inline plotting\n",
        "\n",
        "# 🧠 Machine Learning Libraries\n",
        "from sklearn.linear_model import LinearRegression            # Regression model\n",
        "from sklearn.ensemble import RandomForestClassifier          # Supervised classification\n",
        "from sklearn.cluster import KMeans                           # Unsupervised clustering\n",
        "\n",
        "# ⚙️ ML Utilities\n",
        "from sklearn.model_selection import train_test_split         # Train/test splitting\n",
        "from sklearn.metrics import (mean_squared_error, r2_score,   # Regression metrics\n",
        "                             accuracy_score, classification_report)  # Classification metrics\n",
        "\n",
        "# 🗂️ Date/Time Handling (if needed)\n",
        "from datetime import datetime\n",
        "\n",
        "\n"
      ],
      "metadata": {
        "id": "M8Vqi-pPk-HR"
      },
      "execution_count": null,
      "outputs": []
    },
    {
      "cell_type": "markdown",
      "source": [
        "### Dataset Loading"
      ],
      "metadata": {
        "id": "3RnN4peoiCZX"
      }
    },
    {
      "cell_type": "code",
      "source": [
        "# Load Dataset\n",
        "df = pd.read_csv(\"data_YesBank_StockPrices.csv\")"
      ],
      "metadata": {
        "id": "4CkvbW_SlZ_R"
      },
      "execution_count": null,
      "outputs": []
    },
    {
      "cell_type": "markdown",
      "source": [
        "### Dataset First View"
      ],
      "metadata": {
        "id": "x71ZqKXriCWQ"
      }
    },
    {
      "cell_type": "code",
      "source": [
        "# Dataset First Look\n",
        "df.head()"
      ],
      "metadata": {
        "id": "LWNFOSvLl09H"
      },
      "execution_count": null,
      "outputs": []
    },
    {
      "cell_type": "markdown",
      "source": [
        "### Dataset Rows & Columns count"
      ],
      "metadata": {
        "id": "7hBIi_osiCS2"
      }
    },
    {
      "cell_type": "code",
      "source": [
        "# Dataset Rows & Columns count\n",
        "df.shape\n"
      ],
      "metadata": {
        "id": "Kllu7SJgmLij"
      },
      "execution_count": null,
      "outputs": []
    },
    {
      "cell_type": "markdown",
      "source": [
        "### Dataset Information"
      ],
      "metadata": {
        "id": "JlHwYmJAmNHm"
      }
    },
    {
      "cell_type": "code",
      "source": [
        "# Dataset Info\n",
        "# There are 185 rows and 5 Columns in the dataset\n"
      ],
      "metadata": {
        "id": "e9hRXRi6meOf"
      },
      "execution_count": null,
      "outputs": []
    },
    {
      "cell_type": "markdown",
      "source": [
        "#### Duplicate Values"
      ],
      "metadata": {
        "id": "35m5QtbWiB9F"
      }
    },
    {
      "cell_type": "code",
      "source": [
        "# Dataset Duplicate Value Count\n",
        "duplicate_count = df.duplicated().sum()\n",
        "print(\"No of Duplicated rows:\",duplicate_count)"
      ],
      "metadata": {
        "id": "1sLdpKYkmox0"
      },
      "execution_count": null,
      "outputs": []
    },
    {
      "cell_type": "markdown",
      "source": [
        "#### Missing Values/Null Values"
      ],
      "metadata": {
        "id": "PoPl-ycgm1ru"
      }
    },
    {
      "cell_type": "code",
      "source": [
        "# Missing Values/Null Values Count\n",
        "missing_val = df.isnull().sum()\n",
        "print(\"No of Null values:\",missing_val)"
      ],
      "metadata": {
        "id": "GgHWkxvamxVg"
      },
      "execution_count": null,
      "outputs": []
    },
    {
      "cell_type": "code",
      "source": [
        "# Visualizing the missing values\n",
        "plt.figure(figsize=(8, 4))\n",
        "sns.heatmap(df.isnull(), cbar=False, cmap=\"YlGnBu\")\n",
        "plt.title(\"Missing Values Heatmap\")\n",
        "plt.show()"
      ],
      "metadata": {
        "id": "3q5wnI3om9sJ"
      },
      "execution_count": null,
      "outputs": []
    },
    {
      "cell_type": "markdown",
      "source": [
        "### What did you know about your dataset?"
      ],
      "metadata": {
        "id": "H0kj-8xxnORC"
      }
    },
    {
      "cell_type": "markdown",
      "source": [
        "The dataset is about the stock price of Yes bank of 185 days and it consists of open , high, low and close prices of each day and there are no missing values or duplicate values present in the data set!\n"
      ],
      "metadata": {
        "id": "gfoNAAC-nUe_"
      }
    },
    {
      "cell_type": "markdown",
      "source": [
        "## ***2. Understanding Your Variables***"
      ],
      "metadata": {
        "id": "nA9Y7ga8ng1Z"
      }
    },
    {
      "cell_type": "code",
      "source": [
        "# Dataset Columns\n",
        "print(\"Dataset columns:\")\n",
        "print(df.columns.tolist())"
      ],
      "metadata": {
        "id": "j7xfkqrt5Ag5"
      },
      "execution_count": null,
      "outputs": []
    },
    {
      "cell_type": "code",
      "source": [
        "# Dataset Describe\n",
        "print(df.describe())"
      ],
      "metadata": {
        "id": "DnOaZdaE5Q5t"
      },
      "execution_count": null,
      "outputs": []
    },
    {
      "cell_type": "markdown",
      "source": [
        "### Variables Description"
      ],
      "metadata": {
        "id": "PBTbrJXOngz2"
      }
    },
    {
      "cell_type": "markdown",
      "source": [
        "| Column  | Description                                |\n",
        "| ------- | ------------------------------------------ |\n",
        "| `Date`  | Monthly timestamp in format like \"Jul-05\"  |\n",
        "| `Open`  | Opening price of stock in that month       |\n",
        "| `High`  | Highest price reached during the month     |\n",
        "| `Low`   | Lowest price recorded in the month         |\n",
        "| `Close` | Closing price of stock at end of the month |\n"
      ],
      "metadata": {
        "id": "aJV4KIxSnxay"
      }
    },
    {
      "cell_type": "markdown",
      "source": [
        "### Check Unique Values for each variable."
      ],
      "metadata": {
        "id": "u3PMJOP6ngxN"
      }
    },
    {
      "cell_type": "code",
      "source": [
        "# Check Unique Values for each variable.\n",
        "for col in df.columns:\n",
        "    print(f\"{col} → {df[col].nunique()} unique values\")"
      ],
      "metadata": {
        "id": "zms12Yq5n-jE"
      },
      "execution_count": null,
      "outputs": []
    },
    {
      "cell_type": "markdown",
      "source": [
        "## 3. ***Data Wrangling***"
      ],
      "metadata": {
        "id": "dauF4eBmngu3"
      }
    },
    {
      "cell_type": "markdown",
      "source": [
        "### Data Wrangling Code"
      ],
      "metadata": {
        "id": "bKJF3rekwFvQ"
      }
    },
    {
      "cell_type": "code",
      "source": [
        "# Write your code to make your dataset analysis ready.\n",
        "# Convert 'Date' column to datetime (only once)\n",
        "df['Date'] = pd.to_datetime(df['Date'], format='%b-%y')\n",
        "\n",
        "df = df.sort_values('Date').reset_index(drop=True)\n",
        "\n",
        "# Extract year and month name\n",
        "df['Year'] = df['Date'].dt.year\n",
        "df['Month'] = df['Date'].dt.month_name()\n",
        "\n",
        "# Price range in the month (volatility)\n",
        "df['Range'] = df['High'] - df['Low']\n",
        "\n",
        "# Price change (Close - Open)\n",
        "df['Change'] = df['Close'] - df['Open']\n",
        "\n",
        "# Gain or Loss label\n",
        "df['Gain/Loss'] = df['Change'].apply(lambda x: 'Gain' if x > 0 else 'Loss')\n",
        "\n"
      ],
      "metadata": {
        "id": "wk-9a2fpoLcV"
      },
      "execution_count": null,
      "outputs": []
    },
    {
      "cell_type": "code",
      "source": [
        "\n",
        "print(df[['Date', 'Open', 'High', 'Low', 'Close', 'Range', 'Change', 'Gain/Loss']].head())\n",
        "\n"
      ],
      "metadata": {
        "id": "-Te2eE7lazh3"
      },
      "execution_count": null,
      "outputs": []
    },
    {
      "cell_type": "markdown",
      "source": [
        "### What all manipulations have you done and insights you found?"
      ],
      "metadata": {
        "id": "MSa1f5Uengrz"
      }
    },
    {
      "cell_type": "markdown",
      "source": [
        "| Feature         | Why It Was Added                 | Insight It Helps With           |\n",
        "| --------------- | -------------------------------- | ------------------------------- |\n",
        "| `Year`, `Month` | To enable time-based grouping    | Yearly/monthly trend plots      |\n",
        "| `Range`         | Measures volatility per month    | High fluctuations indicate risk |\n",
        "| `Change`        | Measures gain/loss in stock      | Useful for classification       |\n",
        "| `Gain/Loss`     | Label to classify stock behavior | For supervised ML model         |\n"
      ],
      "metadata": {
        "id": "LbyXE7I1olp8"
      }
    },
    {
      "cell_type": "markdown",
      "source": [
        "## ***4. Data Vizualization, Storytelling & Experimenting with charts : Understand the relationships between variables***"
      ],
      "metadata": {
        "id": "GF8Ens_Soomf"
      }
    },
    {
      "cell_type": "markdown",
      "source": [
        "#### Chart - 1"
      ],
      "metadata": {
        "id": "0wOQAZs5pc--"
      }
    },
    {
      "cell_type": "code",
      "source": [
        "# Chart - 1 visualization code\n",
        "plt.figure(figsize=(10, 5))\n",
        "sns.histplot(df['Close'], kde=True, bins=20, color='skyblue', edgecolor='black')\n",
        "plt.title('Distribution of Closing Prices')\n",
        "plt.xlabel('Closing Price')\n",
        "plt.ylabel('Frequency')\n",
        "plt.grid(True)\n",
        "plt.show()"
      ],
      "metadata": {
        "id": "7v_ESjsspbW7"
      },
      "execution_count": null,
      "outputs": []
    },
    {
      "cell_type": "markdown",
      "source": [
        "##### 1. Why did you pick the specific chart?"
      ],
      "metadata": {
        "id": "K5QZ13OEpz2H"
      }
    },
    {
      "cell_type": "markdown",
      "source": [
        "a Histogram with KDE (Kernel Density Estimate) to analyze the distribution of Yes Bank’s monthly closing prices.\n",
        "\n",
        "Understand central tendency and spread.\n",
        "\n",
        "Detect skewness or multiple peaks (modes).\n",
        "\n",
        "Spot if the distribution is normal or not."
      ],
      "metadata": {
        "id": "XESiWehPqBRc"
      }
    },
    {
      "cell_type": "markdown",
      "source": [
        "##### 2. What is/are the insight(s) found from the chart?"
      ],
      "metadata": {
        "id": "lQ7QKXXCp7Bj"
      }
    },
    {
      "cell_type": "markdown",
      "source": [
        "Most of the closing prices are concentrated in the lower price range, suggesting the stock often closes at a relatively low value.\n",
        "\n",
        "The distribution is right-skewed, meaning there are fewer high-value outliers.\n",
        "\n",
        "No clear multi-modal peaks — it’s mostly unimodal."
      ],
      "metadata": {
        "id": "C_j1G7yiqdRP"
      }
    },
    {
      "cell_type": "markdown",
      "source": [
        "##### 3. Will the gained insights help creating a positive business impact?\n",
        "Are there any insights that lead to negative growth? Justify with specific reason."
      ],
      "metadata": {
        "id": "448CDAPjqfQr"
      }
    },
    {
      "cell_type": "markdown",
      "source": [
        "Yes, the insights support both positive and cautionary decisions:\n",
        "\n",
        "Positive Business Impact:\n",
        "Investors and analysts can better understand how often high or low price ranges occur, allowing them to plan entry/exit points more strategically.\n",
        "The right-skewed distribution may signal rare but potentially profitable spikes, helping identify momentum trading opportunities.\n",
        "\n",
        "Insights That Lead to Negative Growth:\n",
        "The majority of data is concentrated in the lower price range, suggesting Yes Bank’s stock price tends to close at low values historically.\n",
        "This could signal a lack of sustained investor confidence, possible underperformance over time, or risk of capital erosion if trends don’t reverse — important for risk-averse stakeholders and long-term portfolio planning."
      ],
      "metadata": {
        "id": "3cspy4FjqxJW"
      }
    },
    {
      "cell_type": "markdown",
      "source": [
        "#### Chart - 2"
      ],
      "metadata": {
        "id": "KSlN3yHqYklG"
      }
    },
    {
      "cell_type": "code",
      "source": [
        "# Chart - 2 visualization code\n",
        "plt.figure(figsize=(12, 6))\n",
        "plt.plot(df['Date'], df['Close'], color='teal', linewidth=2, marker='o')\n",
        "plt.title('Yes Bank Monthly Closing Price Over Time', fontsize=14)\n",
        "plt.xlabel('Date')\n",
        "plt.ylabel('Closing Price')\n",
        "plt.grid(True)\n",
        "plt.xticks(rotation=45)\n",
        "plt.tight_layout()\n",
        "plt.show()\n"
      ],
      "metadata": {
        "id": "R4YgtaqtYklH"
      },
      "execution_count": null,
      "outputs": []
    },
    {
      "cell_type": "markdown",
      "source": [
        "##### 1. Why did you pick the specific chart?"
      ],
      "metadata": {
        "id": "t6dVpIINYklI"
      }
    },
    {
      "cell_type": "markdown",
      "source": [
        "A line plot is the most effective way to track how a continuous numerical variable changes over time.\n",
        "Here, we use it to visualize how Yes Bank's monthly closing prices have trended from the start of the dataset to the latest point."
      ],
      "metadata": {
        "id": "5aaW0BYyYklI"
      }
    },
    {
      "cell_type": "markdown",
      "source": [
        "##### 2. What is/are the insight(s) found from the chart?"
      ],
      "metadata": {
        "id": "ijmpgYnKYklI"
      }
    },
    {
      "cell_type": "markdown",
      "source": [
        "The stock showed significant price spikes followed by sharp falls during certain periods.\n",
        "\n",
        "There is clear evidence of instability or high volatility in closing prices over time.\n",
        "\n",
        "A downward trend is noticeable toward the later years, with prices consistently low in the recent periods.\n",
        "\n"
      ],
      "metadata": {
        "id": "PSx9atu2YklI"
      }
    },
    {
      "cell_type": "markdown",
      "source": [
        "##### 3. Will the gained insights help creating a positive business impact?\n",
        "Are there any insights that lead to negative growth? Justify with specific reason."
      ],
      "metadata": {
        "id": "-JiQyfWJYklI"
      }
    },
    {
      "cell_type": "markdown",
      "source": [
        "Positive Impact:\n",
        "Investors can use trend information to time market entry/exit, avoid overpaying, and monitor the market for potential rebounds.\n",
        "Helps in forecasting future price behavior using time series models.\n",
        "\n",
        "Negative Growth Insight:\n",
        "The prolonged decline and frequent sharp drops indicate potential underlying financial or structural issues within Yes Bank, discouraging long-term investors and affecting stockholder confidence.\n",
        "This loss of trust and volatility perception may impact market capitalization and funding."
      ],
      "metadata": {
        "id": "BcBbebzrYklV"
      }
    },
    {
      "cell_type": "markdown",
      "source": [
        "#### Chart - 3"
      ],
      "metadata": {
        "id": "EM7whBJCYoAo"
      }
    },
    {
      "cell_type": "code",
      "source": [
        "# Chart - 3 visualization code\n",
        "plt.figure(figsize=(8, 5))\n",
        "sns.boxplot(x=df['Close'], color='salmon')\n",
        "plt.title('Boxplot of Monthly Closing Prices')\n",
        "plt.xlabel('Closing Price')\n",
        "plt.grid(True)\n",
        "plt.show()\n"
      ],
      "metadata": {
        "id": "t6GMdE67YoAp"
      },
      "execution_count": null,
      "outputs": []
    },
    {
      "cell_type": "markdown",
      "source": [
        "##### 1. Why did you pick the specific chart?"
      ],
      "metadata": {
        "id": "fge-S5ZAYoAp"
      }
    },
    {
      "cell_type": "markdown",
      "source": [
        "A boxplot is ideal for spotting:\n",
        "\n",
        "Median value\n",
        "\n",
        "Interquartile range (IQR)\n",
        "\n",
        "Outliers\n",
        "\n",
        "Skewness in data\n",
        "\n",
        "In the context of stock analysis, this chart quickly shows if the stock has had many extreme price fluctuations or stable behavior."
      ],
      "metadata": {
        "id": "5dBItgRVYoAp"
      }
    },
    {
      "cell_type": "markdown",
      "source": [
        "##### 2. What is/are the insight(s) found from the chart?"
      ],
      "metadata": {
        "id": "85gYPyotYoAp"
      }
    },
    {
      "cell_type": "markdown",
      "source": [
        "The median closing price lies towards the lower half of the entire range.\n",
        "\n",
        "There are multiple high-value outliers, suggesting sharp spikes in closing price.\n",
        "\n",
        "The box (IQR) is narrow — meaning prices mostly stayed within a certain range — but the outliers extend far."
      ],
      "metadata": {
        "id": "4jstXR6OYoAp"
      }
    },
    {
      "cell_type": "markdown",
      "source": [
        "##### 3. Will the gained insights help creating a positive business impact?\n",
        "Are there any insights that lead to negative growth? Justify with specific reason."
      ],
      "metadata": {
        "id": "RoGjAbkUYoAp"
      }
    },
    {
      "cell_type": "markdown",
      "source": [
        "Positive Impact:\n",
        "Knowing the typical range of closing prices helps risk analysts set realistic expectations for normal stock behavior.\n",
        "Outliers indicate possible profitable volatility events which might be capitalized on using short-term trading strategies.\n",
        "\n",
        "Negative Growth Insight:\n",
        "The presence of frequent extreme outliers and a low median shows that the stock may have spiked unsustainably and returned to lower levels.\n",
        "This signals instability and possible speculative trading patterns — not ideal for long-term investors."
      ],
      "metadata": {
        "id": "zfJ8IqMcYoAp"
      }
    },
    {
      "cell_type": "markdown",
      "source": [
        "#### Chart - 4"
      ],
      "metadata": {
        "id": "4Of9eVA-YrdM"
      }
    },
    {
      "cell_type": "code",
      "source": [
        "# Chart - 4 visualization code\n",
        "plt.figure(figsize=(12, 6))\n",
        "\n",
        "plt.plot(df['Date'], df['Open'], label='Open Price', color='blue', linewidth=2)\n",
        "plt.plot(df['Date'], df['Close'], label='Close Price', color='green', linewidth=2)\n",
        "\n",
        "plt.title('Open vs Close Prices Over Time', fontsize=14)\n",
        "plt.xlabel('Date')\n",
        "plt.ylabel('Price')\n",
        "plt.legend()\n",
        "plt.grid(True)\n",
        "plt.xticks(rotation=45)\n",
        "plt.tight_layout()\n",
        "plt.show()\n"
      ],
      "metadata": {
        "id": "irlUoxc8YrdO"
      },
      "execution_count": null,
      "outputs": []
    },
    {
      "cell_type": "markdown",
      "source": [
        "##### 1. Why did you pick the specific chart?"
      ],
      "metadata": {
        "id": "iky9q4vBYrdO"
      }
    },
    {
      "cell_type": "markdown",
      "source": [
        "We chose a dual-line plot to observe the relationship between:\n",
        "\n",
        "How the stock starts the month (Open)\n",
        "\n",
        "How it ends the month (Close)\n",
        "\n",
        "It highlights:\n",
        "\n",
        "Intramonth volatility\n",
        "\n",
        "Whether the price gains or loses through the month"
      ],
      "metadata": {
        "id": "aJRCwT6DYrdO"
      }
    },
    {
      "cell_type": "markdown",
      "source": [
        "##### 2. What is/are the insight(s) found from the chart?"
      ],
      "metadata": {
        "id": "F6T5p64dYrdO"
      }
    },
    {
      "cell_type": "markdown",
      "source": [
        "In most months, Closing price is slightly lower or close to the Opening price, reflecting minor changes.\n",
        "\n",
        "Some months show large gaps between Open and Close, indicating strong movements — either gains or drops.\n",
        "\n",
        "Over time, both Open and Close prices follow the same directional trend."
      ],
      "metadata": {
        "id": "Xx8WAJvtYrdO"
      }
    },
    {
      "cell_type": "markdown",
      "source": [
        "##### 3. Will the gained insights help creating a positive business impact?\n",
        "Are there any insights that lead to negative growth? Justify with specific reason."
      ],
      "metadata": {
        "id": "y-Ehk30pYrdP"
      }
    },
    {
      "cell_type": "markdown",
      "source": [
        "Positive Impact:\n",
        "Understanding the typical price movement from open to close helps in:\n",
        "\n",
        "Creating short-term trading strategies\n",
        "\n",
        "Assessing market momentum and investor sentiment shifts\n",
        "\n",
        "Can guide day/month-trading signals — e.g., bullish/bearish patterns.\n",
        "\n",
        "Negative Growth Insight:\n",
        "The narrow gap in most months suggests lack of momentum or excitement, which might deter short-term traders and result in low trading volumes.\n",
        "Some large negative gaps also imply intramonth losses, which could signal risky holding behavior."
      ],
      "metadata": {
        "id": "jLNxxz7MYrdP"
      }
    },
    {
      "cell_type": "markdown",
      "source": [
        "#### Chart - 5"
      ],
      "metadata": {
        "id": "bamQiAODYuh1"
      }
    },
    {
      "cell_type": "code",
      "source": [
        "# Chart - 5 visualization code\n",
        "plt.figure(figsize=(6, 4))\n",
        "sns.countplot(x='Gain/Loss', data=df, palette='pastel')\n",
        "plt.title('Monthly Gain vs Loss Count')\n",
        "plt.xlabel('Month Outcome')\n",
        "plt.ylabel('Count')\n",
        "plt.grid(axis='y')\n",
        "plt.show()\n"
      ],
      "metadata": {
        "id": "TIJwrbroYuh3"
      },
      "execution_count": null,
      "outputs": []
    },
    {
      "cell_type": "markdown",
      "source": [
        "##### 1. Why did you pick the specific chart?"
      ],
      "metadata": {
        "id": "QHF8YVU7Yuh3"
      }
    },
    {
      "cell_type": "markdown",
      "source": [
        "It gives a simple but effective view of:\n",
        "\n",
        "Stock performance consistency\n",
        "\n",
        "Dominant behavior (gains or losses)"
      ],
      "metadata": {
        "id": "dcxuIMRPYuh3"
      }
    },
    {
      "cell_type": "markdown",
      "source": [
        "##### 2. What is/are the insight(s) found from the chart?"
      ],
      "metadata": {
        "id": "GwzvFGzlYuh3"
      }
    },
    {
      "cell_type": "markdown",
      "source": [
        "The number of loss months exceeds gain months, indicating the stock often closes lower than it opens.\n",
        "\n",
        "This pattern is consistent, not just a few outlier months."
      ],
      "metadata": {
        "id": "uyqkiB8YYuh3"
      }
    },
    {
      "cell_type": "markdown",
      "source": [
        "##### 3. Will the gained insights help creating a positive business impact?\n",
        "Are there any insights that lead to negative growth? Justify with specific reason."
      ],
      "metadata": {
        "id": "qYpmQ266Yuh3"
      }
    },
    {
      "cell_type": "markdown",
      "source": [
        "Positive Impact:\n",
        "Investors can identify whether the stock has bullish or bearish tendencies, which is critical for short-term strategies like swing or momentum trading.\n",
        "It also helps in risk modeling.\n",
        "\n",
        "Negative Growth Insight:\n",
        "A higher count of loss months reflects that the stock tends to lose value within the month, potentially signaling lack of confidence or consistent negative sentiment.\n",
        "This can turn off institutional investors or long-term holders seeking reliable growth."
      ],
      "metadata": {
        "id": "_WtzZ_hCYuh4"
      }
    },
    {
      "cell_type": "markdown",
      "source": [
        "#### Chart - 6"
      ],
      "metadata": {
        "id": "OH-pJp9IphqM"
      }
    },
    {
      "cell_type": "code",
      "source": [
        "# Chart - 6 visualization code\n",
        "plt.figure(figsize=(10, 5))\n",
        "yearly_avg = df.groupby('Year')['Close'].mean().reset_index()\n",
        "\n",
        "sns.barplot(data=yearly_avg, x='Year', y='Close', palette='coolwarm')\n",
        "plt.title('Average Closing Price Per Year')\n",
        "plt.ylabel('Average Closing Price')\n",
        "plt.xlabel('Year')\n",
        "plt.grid(axis='y')\n",
        "plt.show()\n"
      ],
      "metadata": {
        "id": "kuRf4wtuphqN"
      },
      "execution_count": null,
      "outputs": []
    },
    {
      "cell_type": "markdown",
      "source": [
        "##### 1. Why did you pick the specific chart?"
      ],
      "metadata": {
        "id": "bbFf2-_FphqN"
      }
    },
    {
      "cell_type": "markdown",
      "source": [
        "We chose a bar plot of yearly averages to:\n",
        "\n",
        "Smooth out monthly fluctuations\n",
        "\n",
        "Identify long-term trends\n",
        "\n",
        "Evaluate how stock value evolved year by year\n",
        "\n",
        "This is helpful for understanding the overall growth or decline trajectory of the stock."
      ],
      "metadata": {
        "id": "loh7H2nzphqN"
      }
    },
    {
      "cell_type": "markdown",
      "source": [
        "##### 2. What is/are the insight(s) found from the chart?"
      ],
      "metadata": {
        "id": "_ouA3fa0phqN"
      }
    },
    {
      "cell_type": "markdown",
      "source": [
        "There are clear fluctuations in average yearly closing prices.\n",
        "\n",
        "The stock had peak years, followed by a steady decline in more recent years.\n",
        "\n",
        "The recent years show much lower average prices, suggesting long-term devaluation."
      ],
      "metadata": {
        "id": "VECbqPI7phqN"
      }
    },
    {
      "cell_type": "markdown",
      "source": [
        "##### 3. Will the gained insights help creating a positive business impact?\n",
        "Are there any insights that lead to negative growth? Justify with specific reason."
      ],
      "metadata": {
        "id": "Seke61FWphqN"
      }
    },
    {
      "cell_type": "markdown",
      "source": [
        "Positive Impact:\n",
        "It helps investors understand which years were strong or weak, and plan entries/exits around macroeconomic cycles or internal performance cycles.\n",
        "Long-term investors can better align with recovery phases or bottom-hunting strategies.\n",
        "\n",
        "Negative Growth Insight:\n",
        "The declining average trend in recent years could suggest chronic performance issues or loss of market trust, affecting investor confidence and reducing demand."
      ],
      "metadata": {
        "id": "DW4_bGpfphqN"
      }
    },
    {
      "cell_type": "markdown",
      "source": [
        "#### Chart - 7"
      ],
      "metadata": {
        "id": "PIIx-8_IphqN"
      }
    },
    {
      "cell_type": "code",
      "source": [
        "# Chart - 7 visualization code\n",
        "plt.figure(figsize=(10, 6))\n",
        "numerical_cols = ['Open', 'High', 'Low', 'Close', 'Range', 'Change']\n",
        "corr_matrix = df[numerical_cols].corr()\n",
        "\n",
        "sns.heatmap(corr_matrix, annot=True, cmap='coolwarm', linewidths=0.5)\n",
        "plt.title('Correlation Heatmap of Numerical Features')\n",
        "plt.show()\n"
      ],
      "metadata": {
        "id": "lqAIGUfyphqO"
      },
      "execution_count": null,
      "outputs": []
    },
    {
      "cell_type": "markdown",
      "source": [
        "##### 1. Why did you pick the specific chart?"
      ],
      "metadata": {
        "id": "t27r6nlMphqO"
      }
    },
    {
      "cell_type": "markdown",
      "source": [
        "A correlation heatmap is a multivariate visualization that helps:\n",
        "\n",
        "Understand linear relationships between numerical variables.\n",
        "\n",
        "Detect collinearity for model simplification.\n",
        "\n",
        "Choose features wisely for regression/classification models."
      ],
      "metadata": {
        "id": "iv6ro40sphqO"
      }
    },
    {
      "cell_type": "markdown",
      "source": [
        "##### 2. What is/are the insight(s) found from the chart?"
      ],
      "metadata": {
        "id": "r2jJGEOYphqO"
      }
    },
    {
      "cell_type": "markdown",
      "source": [
        "Open, High, Low, and Close are strongly positively correlated, which is expected in stock price behavior.\n",
        "\n",
        "Change is moderately correlated with Close, Open, and Range.\n",
        "\n",
        "No negative correlations are significantly strong — most variables move together."
      ],
      "metadata": {
        "id": "Po6ZPi4hphqO"
      }
    },
    {
      "cell_type": "markdown",
      "source": [
        "##### 3. Will the gained insights help creating a positive business impact?\n",
        "Are there any insights that lead to negative growth? Justify with specific reason."
      ],
      "metadata": {
        "id": "b0JNsNcRphqO"
      }
    },
    {
      "cell_type": "markdown",
      "source": [
        "Positive Impact:\n",
        "This helps data scientists remove redundant variables, reduce model complexity, and avoid multicollinearity — all of which improve model accuracy and interpretability.\n",
        "\n",
        "Negative Growth Insight:\n",
        "While not directly related to business decline, a very high correlation between multiple price variables might indicate the stock doesn’t exhibit enough independent variability, which could make advanced analysis or prediction more redundant and less informative."
      ],
      "metadata": {
        "id": "xvSq8iUTphqO"
      }
    },
    {
      "cell_type": "markdown",
      "source": [
        "#### Chart - 8"
      ],
      "metadata": {
        "id": "BZR9WyysphqO"
      }
    },
    {
      "cell_type": "code",
      "source": [
        "# Chart - 8 visualization code\n",
        "plt.figure(figsize=(12, 6))\n",
        "gain_loss_year = pd.crosstab(df['Year'], df['Gain/Loss'])\n",
        "\n",
        "gain_loss_year.plot(kind='bar', stacked=True, color=['lightcoral', 'mediumseagreen'], figsize=(12, 6))\n",
        "plt.title('Year-wise Gain vs Loss Count')\n",
        "plt.xlabel('Year')\n",
        "plt.ylabel('Number of Months')\n",
        "plt.legend(title='Month Outcome')\n",
        "plt.grid(axis='y')\n",
        "plt.tight_layout()\n",
        "plt.show()\n"
      ],
      "metadata": {
        "id": "TdPTWpAVphqO"
      },
      "execution_count": null,
      "outputs": []
    },
    {
      "cell_type": "markdown",
      "source": [
        "##### 1. Why did you pick the specific chart?"
      ],
      "metadata": {
        "id": "jj7wYXLtphqO"
      }
    },
    {
      "cell_type": "markdown",
      "source": [
        "A stacked bar chart is ideal when comparing multiple categories over time.\n",
        "Here, it shows:\n",
        "\n",
        "How many months in each year ended in gains vs losses\n",
        "\n",
        "Whether performance is improving, declining, or balanced"
      ],
      "metadata": {
        "id": "Ob8u6rCTphqO"
      }
    },
    {
      "cell_type": "markdown",
      "source": [
        "##### 2. What is/are the insight(s) found from the chart?"
      ],
      "metadata": {
        "id": "eZrbJ2SmphqO"
      }
    },
    {
      "cell_type": "markdown",
      "source": [
        "In most years, losses outweigh gains, clearly indicating a bearish bias in stock performance.\n",
        "\n",
        "Only a few years show balanced or gain-dominant months.\n",
        "\n",
        "Some years have no gain months at all, reflecting severe downtrends."
      ],
      "metadata": {
        "id": "mZtgC_hjphqO"
      }
    },
    {
      "cell_type": "markdown",
      "source": [
        "##### 3. Will the gained insights help creating a positive business impact?\n",
        "Are there any insights that lead to negative growth? Justify with specific reason."
      ],
      "metadata": {
        "id": "rFu4xreNphqO"
      }
    },
    {
      "cell_type": "markdown",
      "source": [
        "Positive Impact:\n",
        "This chart is a year-level health check for the stock. Investors and portfolio managers can use this to time their entries during more balanced/gain-dominant periods.\n",
        "It helps in comparing macroeconomic or policy effects across years.\n",
        "\n",
        "Negative Growth Insight:\n",
        "Consistent loss-heavy years signal poor fundamentals or market perception.\n",
        "This can reduce investor interest, especially for long-term holding strategies."
      ],
      "metadata": {
        "id": "ey_0qi68phqO"
      }
    },
    {
      "cell_type": "markdown",
      "source": [
        "#### Chart - 9"
      ],
      "metadata": {
        "id": "YJ55k-q6phqO"
      }
    },
    {
      "cell_type": "code",
      "source": [
        "# Chart - 9 visualization code\n",
        "plt.figure(figsize=(12, 6))\n",
        "sns.boxplot(x='Month', y='Range', data=df, palette='Set3')\n",
        "plt.title('Monthly Volatility (Price Range) Distribution')\n",
        "plt.ylabel('Price Range (High - Low)')\n",
        "plt.xlabel('Month')\n",
        "plt.xticks(rotation=45)\n",
        "plt.grid(True)\n",
        "plt.tight_layout()\n",
        "plt.show()\n"
      ],
      "metadata": {
        "id": "B2aS4O1ophqO"
      },
      "execution_count": null,
      "outputs": []
    },
    {
      "cell_type": "markdown",
      "source": [
        "##### 1. Why did you pick the specific chart?"
      ],
      "metadata": {
        "id": "gCFgpxoyphqP"
      }
    },
    {
      "cell_type": "markdown",
      "source": [
        "Boxplots help in comparing distributions across categories.\n",
        "Here, it helps analyze how volatile each calendar month is, using the price range as a proxy for volatility.\n",
        "\n",
        "This can uncover if certain months are historically more unstable — useful for seasonal trading strategies."
      ],
      "metadata": {
        "id": "TVxDimi2phqP"
      }
    },
    {
      "cell_type": "markdown",
      "source": [
        "##### 2. What is/are the insight(s) found from the chart?"
      ],
      "metadata": {
        "id": "OVtJsKN_phqQ"
      }
    },
    {
      "cell_type": "markdown",
      "source": [
        "Some months like March and October have a wider spread and more outliers, showing they are typically more volatile.\n",
        "\n",
        "Months like June and July are comparatively stable with narrow ranges.\n",
        "\n",
        "There is no consistent upward or downward trend in volatility across months."
      ],
      "metadata": {
        "id": "ngGi97qjphqQ"
      }
    },
    {
      "cell_type": "markdown",
      "source": [
        "##### 3. Will the gained insights help creating a positive business impact?\n",
        "Are there any insights that lead to negative growth? Justify with specific reason."
      ],
      "metadata": {
        "id": "lssrdh5qphqQ"
      }
    },
    {
      "cell_type": "markdown",
      "source": [
        "Positive Impact:\n",
        "Helps risk managers and traders identify high-volatility months and adjust positions accordingly.\n",
        "Also useful in planning hedging strategies during turbulent periods.\n",
        "\n",
        "Negative Growth Insight:\n",
        "If volatility increases in otherwise stable months, it may reflect underlying instability or poor investor confidence, especially if not accompanied by positive price movement — a red flag for long-term investors."
      ],
      "metadata": {
        "id": "tBpY5ekJphqQ"
      }
    },
    {
      "cell_type": "markdown",
      "source": [
        "#### Chart - 10"
      ],
      "metadata": {
        "id": "U2RJ9gkRphqQ"
      }
    },
    {
      "cell_type": "code",
      "source": [
        "# Chart - 10 visualization code\n",
        "# Calculate daily returns (from Close)\n",
        "df['Daily_Return'] = df['Close'].pct_change()\n",
        "\n",
        "# Calculate cumulative return\n",
        "df['Cumulative_Return'] = (1 + df['Daily_Return']).cumprod()\n",
        "\n",
        "# Plotting\n",
        "plt.figure(figsize=(12, 6))\n",
        "plt.plot(df['Date'], df['Cumulative_Return'], color='purple', linewidth=2)\n",
        "plt.title('Cumulative Return of Yes Bank Stock Over Time')\n",
        "plt.xlabel('Date')\n",
        "plt.ylabel('Cumulative Return')\n",
        "plt.grid(True)\n",
        "plt.tight_layout()\n",
        "plt.show()\n"
      ],
      "metadata": {
        "id": "GM7a4YP4phqQ"
      },
      "execution_count": null,
      "outputs": []
    },
    {
      "cell_type": "markdown",
      "source": [
        "##### 1. Why did you pick the specific chart?"
      ],
      "metadata": {
        "id": "1M8mcRywphqQ"
      }
    },
    {
      "cell_type": "markdown",
      "source": [
        "A cumulative return plot shows what would happen if you invested once and held on over time.\n",
        "It is vital for understanding investment performance and long-term value growth."
      ],
      "metadata": {
        "id": "8agQvks0phqQ"
      }
    },
    {
      "cell_type": "markdown",
      "source": [
        "##### 2. What is/are the insight(s) found from the chart?"
      ],
      "metadata": {
        "id": "tgIPom80phqQ"
      }
    },
    {
      "cell_type": "markdown",
      "source": [
        "The return initially grows, but over time, it shows dramatic declines, especially around specific market shocks.\n",
        "\n",
        "Recent values are far below the starting point, indicating negative long-term returns.\n",
        "\n",
        "This stock would have eroded capital if held without active trading."
      ],
      "metadata": {
        "id": "Qp13pnNzphqQ"
      }
    },
    {
      "cell_type": "markdown",
      "source": [
        "##### 3. Will the gained insights help creating a positive business impact?\n",
        "Are there any insights that lead to negative growth? Justify with specific reason."
      ],
      "metadata": {
        "id": "JMzcOPDDphqR"
      }
    },
    {
      "cell_type": "markdown",
      "source": [
        "Positive Impact:\n",
        "This chart can help investors understand the risk of passive holding and shift to active strategies or stop-loss policies.\n",
        "It supports better portfolio management and alert systems.\n",
        "\n",
        "Negative Growth Insight:\n",
        "The steep fall in cumulative return confirms that holding this stock long-term without timing or risk strategy could lead to heavy losses.\n",
        "This discourages retail and institutional interest and could affect market valuation further."
      ],
      "metadata": {
        "id": "R4Ka1PC2phqR"
      }
    },
    {
      "cell_type": "markdown",
      "source": [
        "#### Chart - 11"
      ],
      "metadata": {
        "id": "x-EpHcCOp1ci"
      }
    },
    {
      "cell_type": "code",
      "source": [
        "# Chart - 11 visualization code\n",
        "plt.figure(figsize=(12, 6))\n",
        "\n",
        "monthly_avg_range = df.groupby('Month')['Range'].mean().reindex([\n",
        "    'January', 'February', 'March', 'April', 'May', 'June',\n",
        "    'July', 'August', 'September', 'October', 'November', 'December'\n",
        "])\n",
        "\n",
        "sns.barplot(x=monthly_avg_range.index, y=monthly_avg_range.values, palette='magma')\n",
        "plt.title('Average Monthly Price Range (Volatility)')\n",
        "plt.xlabel('Month')\n",
        "plt.ylabel('Average Price Range (High - Low)')\n",
        "plt.xticks(rotation=45)\n",
        "plt.grid(axis='y')\n",
        "plt.tight_layout()\n",
        "plt.show()\n"
      ],
      "metadata": {
        "id": "mAQTIvtqp1cj"
      },
      "execution_count": null,
      "outputs": []
    },
    {
      "cell_type": "markdown",
      "source": [
        "##### 1. Why did you pick the specific chart?"
      ],
      "metadata": {
        "id": "X_VqEhTip1ck"
      }
    },
    {
      "cell_type": "markdown",
      "source": [
        "We use bar plot to compare volatility (price movement) across months, helping us uncover patterns of high or low market activity, which can be vital for:\n",
        "\n",
        "Trading strategies\n",
        "\n",
        "Hedging decisions\n",
        "\n",
        "Understanding seasonal volatility"
      ],
      "metadata": {
        "id": "-vsMzt_np1ck"
      }
    },
    {
      "cell_type": "markdown",
      "source": [
        "##### 2. What is/are the insight(s) found from the chart?"
      ],
      "metadata": {
        "id": "8zGJKyg5p1ck"
      }
    },
    {
      "cell_type": "markdown",
      "source": [
        "March and October show relatively higher average price ranges, indicating higher volatility.\n",
        "\n",
        "Months like June and July are calmer, suggesting a relatively stable trading environment.\n",
        "\n",
        "There’s a subtle seasonal trend that can be exploited for planning."
      ],
      "metadata": {
        "id": "ZYdMsrqVp1ck"
      }
    },
    {
      "cell_type": "markdown",
      "source": [
        "##### 3. Will the gained insights help creating a positive business impact?\n",
        "Are there any insights that lead to negative growth? Justify with specific reason."
      ],
      "metadata": {
        "id": "PVzmfK_Ep1ck"
      }
    },
    {
      "cell_type": "markdown",
      "source": [
        "Positive Impact:\n",
        "Investors and traders can optimize trade entries during high-volatility months for potential gains and use risk control strategies accordingly.\n",
        "Portfolio managers can rebalance based on volatility patterns.\n",
        "\n",
        "Negative Growth Insight:\n",
        "Higher volatility, especially unpredictable ones like in March or October, might suggest macroeconomic risks or unstable investor sentiment — which may negatively influence market trust"
      ],
      "metadata": {
        "id": "druuKYZpp1ck"
      }
    },
    {
      "cell_type": "markdown",
      "source": [
        "#### Chart - 12"
      ],
      "metadata": {
        "id": "n3dbpmDWp1ck"
      }
    },
    {
      "cell_type": "code",
      "source": [
        "# Chart - 12 visualization code\n",
        "price_cols = ['Open', 'High', 'Low', 'Close', 'Range', 'Change']\n",
        "\n",
        "sns.pairplot(df[price_cols], diag_kind='kde', corner=True, plot_kws={'alpha': 0.6})\n",
        "plt.suptitle('Pairplot of Price Features', fontsize=16, y=1.02)\n",
        "plt.show()\n"
      ],
      "metadata": {
        "id": "bwevp1tKp1ck"
      },
      "execution_count": null,
      "outputs": []
    },
    {
      "cell_type": "markdown",
      "source": [
        "##### 1. Why did you pick the specific chart?"
      ],
      "metadata": {
        "id": "ylSl6qgtp1ck"
      }
    },
    {
      "cell_type": "markdown",
      "source": [
        "A pairplot is ideal for exploring multivariate relationships and distributions:\n",
        "\n",
        "It shows scatter plots between each pair of features.\n",
        "\n",
        "Diagonal plots show distributions (via KDE).\n",
        "\n",
        "It visually reveals correlations, clusters, and potential outliers.\n",
        "\n",
        "This helps in feature selection and pre-modeling analysis."
      ],
      "metadata": {
        "id": "m2xqNkiQp1ck"
      }
    },
    {
      "cell_type": "markdown",
      "source": [
        "##### 2. What is/are the insight(s) found from the chart?"
      ],
      "metadata": {
        "id": "ZWILFDl5p1ck"
      }
    },
    {
      "cell_type": "markdown",
      "source": [
        "Strong linear relationships among Open, High, Low, and Close — confirming their interdependence.\n",
        "\n",
        "Range and Change show wider spread and less linear alignment with other features.\n",
        "\n",
        "A few outliers are visible in Range and Change, which may indicate extreme volatility events."
      ],
      "metadata": {
        "id": "x-lUsV2mp1ck"
      }
    },
    {
      "cell_type": "markdown",
      "source": [
        "##### 3. Will the gained insights help creating a positive business impact?\n",
        "Are there any insights that lead to negative growth? Justify with specific reason."
      ],
      "metadata": {
        "id": "M7G43BXep1ck"
      }
    },
    {
      "cell_type": "markdown",
      "source": [
        "Positive Impact:\n",
        "Helps analysts and ML engineers select or remove features based on redundancy or irrelevance.\n",
        "Enables better understanding of price relationships before modeling.\n",
        "\n",
        "Negative Growth Insight:\n",
        "Lack of unique independent behavior in some variables (e.g., Close is almost linearly dependent on Open/High/Low) could limit predictive model complexity.\n",
        "Outliers in Change may point to unexpected price shocks that can erode investor confidence."
      ],
      "metadata": {
        "id": "5wwDJXsLp1cl"
      }
    },
    {
      "cell_type": "markdown",
      "source": [
        "#### Chart - 13"
      ],
      "metadata": {
        "id": "Ag9LCva-p1cl"
      }
    },
    {
      "cell_type": "code",
      "source": [
        "# Chart - 13 visualization code\n",
        "# Calculate moving averages\n",
        "df['MA_30'] = df['Close'].rolling(window=30).mean()\n",
        "df['MA_90'] = df['Close'].rolling(window=90).mean()\n",
        "\n",
        "# Plotting\n",
        "plt.figure(figsize=(14, 6))\n",
        "plt.plot(df['Date'], df['Close'], label='Close Price', alpha=0.5, color='gray')\n",
        "plt.plot(df['Date'], df['MA_30'], label='30-Day MA', color='blue', linewidth=2)\n",
        "plt.plot(df['Date'], df['MA_90'], label='90-Day MA', color='orange', linewidth=2)\n",
        "\n",
        "plt.title('Moving Averages of Closing Price')\n",
        "plt.xlabel('Date')\n",
        "plt.ylabel('Price')\n",
        "plt.legend()\n",
        "plt.grid(True)\n",
        "plt.tight_layout()\n",
        "plt.show()\n"
      ],
      "metadata": {
        "id": "EUfxeq9-p1cl"
      },
      "execution_count": null,
      "outputs": []
    },
    {
      "cell_type": "markdown",
      "source": [
        "##### 1. Why did you pick the specific chart?"
      ],
      "metadata": {
        "id": "E6MkPsBcp1cl"
      }
    },
    {
      "cell_type": "markdown",
      "source": [
        "Moving averages are used to:\n",
        "\n",
        "Smooth out short-term volatility\n",
        "\n",
        "Identify trends (bullish/bearish crossovers)\n",
        "\n",
        "Act as dynamic support/resistance levels in trading\n",
        "\n",
        "This chart shows long- and short-term price momentum in a single view."
      ],
      "metadata": {
        "id": "V22bRsFWp1cl"
      }
    },
    {
      "cell_type": "markdown",
      "source": [
        "##### 2. What is/are the insight(s) found from the chart?"
      ],
      "metadata": {
        "id": "2cELzS2fp1cl"
      }
    },
    {
      "cell_type": "markdown",
      "source": [
        "The 30-day MA responds faster to price changes, while the 90-day MA gives a broader trend view.\n",
        "\n",
        "Multiple crossovers between MA lines reflect potential trend reversals.\n",
        "\n",
        "In many parts, the stock stays below both MAs, indicating a bearish zone."
      ],
      "metadata": {
        "id": "ozQPc2_Ip1cl"
      }
    },
    {
      "cell_type": "markdown",
      "source": [
        "##### 3. Will the gained insights help creating a positive business impact?\n",
        "Are there any insights that lead to negative growth? Justify with specific reason."
      ],
      "metadata": {
        "id": "3MPXvC8up1cl"
      }
    },
    {
      "cell_type": "markdown",
      "source": [
        "Positive Impact:\n",
        "Moving averages help traders and analysts spot market trends early, reduce noise, and plan trades with better timing.\n",
        "Institutions can use it for algorithmic trading logic.\n",
        "\n",
        "Negative Growth Insight:\n",
        "When the stock price consistently remains below its long-term average, it reflects market pessimism.\n",
        "Prolonged bearish trends can affect investor confidence and reduce participation."
      ],
      "metadata": {
        "id": "GL8l1tdLp1cl"
      }
    },
    {
      "cell_type": "markdown",
      "source": [
        "#### Chart - 14 - Correlation Heatmap"
      ],
      "metadata": {
        "id": "NC_X3p0fY2L0"
      }
    },
    {
      "cell_type": "code",
      "source": [
        "# Correlation Heatmap visualization code\n",
        "plt.figure(figsize=(10, 6))\n",
        "numerical_cols = ['Open', 'High', 'Low', 'Close', 'Range', 'Change']\n",
        "\n",
        "corr_matrix = df[numerical_cols].corr()\n",
        "\n",
        "sns.heatmap(corr_matrix, annot=True, cmap='coolwarm', linewidths=0.5, fmt=\".2f\")\n",
        "plt.title('Correlation Heatmap of Price Features')\n",
        "plt.xticks(rotation=45)\n",
        "plt.yticks(rotation=0)\n",
        "plt.tight_layout()\n",
        "plt.show()\n"
      ],
      "metadata": {
        "id": "xyC9zolEZNRQ"
      },
      "execution_count": null,
      "outputs": []
    },
    {
      "cell_type": "markdown",
      "source": [
        "##### 1. Why did you pick the specific chart?"
      ],
      "metadata": {
        "id": "UV0SzAkaZNRQ"
      }
    },
    {
      "cell_type": "markdown",
      "source": [
        "The heatmap visualizes pairwise correlations between numerical features:\n",
        "\n",
        "Detects redundant (highly correlated) columns.\n",
        "\n",
        "Identifies relationships that may impact feature selection in modeling."
      ],
      "metadata": {
        "id": "DVPuT8LYZNRQ"
      }
    },
    {
      "cell_type": "markdown",
      "source": [
        "##### 2. What is/are the insight(s) found from the chart?"
      ],
      "metadata": {
        "id": "YPEH6qLeZNRQ"
      }
    },
    {
      "cell_type": "markdown",
      "source": [
        "Open, High, Low, and Close are strongly positively correlated — expected due to market mechanics.\n",
        "\n",
        "Change and Range show moderate correlation with price columns, indicating volatility and daily performance."
      ],
      "metadata": {
        "id": "bfSqtnDqZNRR"
      }
    },
    {
      "cell_type": "markdown",
      "source": [
        "#### Chart - 15 - Pair Plot"
      ],
      "metadata": {
        "id": "q29F0dvdveiT"
      }
    },
    {
      "cell_type": "code",
      "source": [
        "# Pair Plot visualization code\n",
        "# Select relevant price columns\n",
        "price_cols = ['Open', 'High', 'Low', 'Close', 'Range', 'Change']\n",
        "\n",
        "# Plot pairplot\n",
        "sns.pairplot(df[price_cols], diag_kind='kde', corner=True, plot_kws={'alpha': 0.6})\n",
        "plt.suptitle('Pair Plot of Price Features', fontsize=16, y=1.02)\n",
        "plt.show()\n"
      ],
      "metadata": {
        "id": "o58-TEIhveiU"
      },
      "execution_count": null,
      "outputs": []
    },
    {
      "cell_type": "markdown",
      "source": [
        "##### 1. Why did you pick the specific chart?"
      ],
      "metadata": {
        "id": "EXh0U9oCveiU"
      }
    },
    {
      "cell_type": "markdown",
      "source": [
        "A pairplot is a powerful way to:\n",
        "\n",
        "Examine relationships between multiple variables at once\n",
        "\n",
        "Identify correlation patterns, outliers, and distributions\n",
        "\n",
        "Spot clustering or patterns visually before applying ML models"
      ],
      "metadata": {
        "id": "eMmPjTByveiU"
      }
    },
    {
      "cell_type": "markdown",
      "source": [
        "##### 2. What is/are the insight(s) found from the chart?"
      ],
      "metadata": {
        "id": "22aHeOlLveiV"
      }
    },
    {
      "cell_type": "markdown",
      "source": [
        "Strong linear trends among Open, High, Low, and Close, confirming interdependence.\n",
        "\n",
        "Range and Change have scattered relationships, suggesting unique contribution or influence by other factors (e.g., volatility, news).\n",
        "\n",
        "Outliers are visible especially in Range, which could indicate market shock days."
      ],
      "metadata": {
        "id": "uPQ8RGwHveiV"
      }
    },
    {
      "cell_type": "markdown",
      "source": [
        "## **5. Solution to Business Objective**"
      ],
      "metadata": {
        "id": "JcMwzZxoAimU"
      }
    },
    {
      "cell_type": "markdown",
      "source": [
        "#### What do you suggest the client to achieve Business Objective ?\n",
        "Explain Briefly."
      ],
      "metadata": {
        "id": "8G2x9gOozGDZ"
      }
    },
    {
      "cell_type": "markdown",
      "source": [
        "1. Focus on Volatility-Aware Trading\n",
        "Certain months (e.g., March, October) are historically more volatile.\n",
        "\n",
        "The client can optimize trade size or stop-loss strategies accordingly.\n",
        "\n",
        "Use dynamic asset allocation during high-volatility periods.\n",
        "\n",
        "2. Avoid Passive Holding – Focus on Trend-Driven Entry/Exit\n",
        "Cumulative return and moving average plots indicate poor long-term returns.\n",
        "\n",
        "Investors should adopt trend-following strategies using 30/90-day moving averages or price momentum indicators.\n",
        "\n",
        "3. Leverage Machine Learning for Forecasting\n",
        "Use the cleaned dataset to build supervised (regression/classification) models to predict gain/loss days or price movement.\n",
        "\n",
        "Deploy unsupervised learning (clustering) to segment days/weeks based on price behavior.\n",
        "\n",
        "4. Monitor and Act on Technical Indicators\n",
        "Use Range and Change as key features in alert systems or trading signals.\n",
        "\n",
        "When Range spikes unexpectedly, combine it with volume/news to detect price breakout opportunities.\n",
        "\n",
        "5. Enhance Risk Management Using Seasonality\n",
        "Average price and volatility fluctuate by month and year.\n",
        "\n",
        "Adjust exposure and capital allocation dynamically based on seasonal trends found in the data.\n",
        "\n",
        "6. Data Gaps and Future Improvement\n",
        "The absence of trading volume limits liquidity analysis — recommend sourcing external volume data.\n",
        "\n",
        "Integrate macroeconomic indicators (e.g., RBI rate changes, market-wide sentiment) for better ML modeling accuracy."
      ],
      "metadata": {
        "id": "pASKb0qOza21"
      }
    },
    {
      "cell_type": "markdown",
      "source": [
        "# **Conclusion**"
      ],
      "metadata": {
        "id": "gCX9965dhzqZ"
      }
    },
    {
      "cell_type": "markdown",
      "source": [
        "The client should focus on data-driven active investment, utilize technical + ML tools, and adapt strategies dynamically based on insights like volatility, trend reversals, and cyclical patterns. Avoid buy-and-hold strategies due to long-term underperformance."
      ],
      "metadata": {
        "id": "Fjb1IsQkh3yE"
      }
    },
    {
      "cell_type": "markdown",
      "source": [
        "### ***Hurrah! You have successfully completed your EDA Capstone Project !!!***"
      ],
      "metadata": {
        "id": "gIfDvo9L0UH2"
      }
    }
  ]
}